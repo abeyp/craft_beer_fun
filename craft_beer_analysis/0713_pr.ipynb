{
 "cells": [
  {
   "cell_type": "code",
   "execution_count": 45,
   "metadata": {},
   "outputs": [],
   "source": [
    "import os\n",
    "import sys\n",
    "import random \n",
    "from pandas import DataFrame\n",
    "import matplotlib.pyplot as plt\n"
   ]
  },
  {
   "cell_type": "code",
   "execution_count": 19,
   "metadata": {},
   "outputs": [
    {
     "name": "stdout",
     "output_type": "stream",
     "text": [
      "[['Linda', 289.35394832961646], ['Paul', 217.15968980811812], ['Jack', 571.8744822225229], ['Paul', 26.244426077522817], ['Linda', 497.57736691832235], ['Linda', 876.9659389831622], ['Paul', 327.8516819215807], ['Jack', 277.887418130959], ['Paul', 1289.6823525488649], ['Tasha', 705.6850071316101], ['Christi', 469.16648929591827], ['Jack', 328.4114897244577], ['Jack', 10.895075208302123], ['Linda', 1185.7837712762575], ['Christi', 1346.8379658267613], ['Tasha', 344.4936374267986], ['Paul', 496.9958882068616], ['Jack', 963.4726312018953], ['Linda', 1185.136237038267], ['Jack', 414.4073863861593], ['Linda', 555.2099157047103], ['Christi', 168.61586479465836], ['Jack', 715.7531220116246], ['Christi', 95.76920314339415], ['Tasha', 958.9367083347947], ['Christi', 137.8570606314996], ['Linda', 888.0872214546945], ['Jack', 1314.1124548506846], ['Paul', 422.12603583922953], ['Jack', 22.60459271572424], ['Christi', 663.9541596706214], ['Paul', 1100.1417239306525], ['Tasha', 612.0957551957742], ['Christi', 459.966765377402], ['Paul', 720.4729947136395], ['Linda', 38.74163982506889], ['Linda', 510.45257432425353], ['Jack', 505.09070329695476], ['Tasha', 493.2577205039282], ['Paul', 127.42449699357114], ['Paul', 1147.8315581549184], ['Jack', 1110.2264864086183], ['Christi', 70.52192416362524], ['Jack', 386.6938941922507], ['Tasha', 304.96612403014115], ['Christi', 1105.393812657238], ['Linda', 105.96775798119955], ['Christi', 1438.4274910444778], ['Christi', 829.3224173026309], ['Jack', 915.5464576519969]]\n"
     ]
    }
   ],
   "source": [
    "#create dataset of empployee and sale revenue\n",
    "\n",
    "employee_names = ['Jack','Paul', 'Christi', 'Tasha', 'Linda']\n",
    "\n",
    "sale_revenue = []\n",
    "for employee in employee_names:\n",
    "    for i in range(100):\n",
    "        rev = random.random()*(500 + i*10)\n",
    "        sale_revenue.append([employee, rev])\n",
    "        \n",
    "#print out a random subsample of data \n",
    "print(random.sample(sale_revenue, 50))"
   ]
  },
  {
   "cell_type": "code",
   "execution_count": 38,
   "metadata": {},
   "outputs": [
    {
     "data": {
      "text/html": [
       "<div>\n",
       "<style scoped>\n",
       "    .dataframe tbody tr th:only-of-type {\n",
       "        vertical-align: middle;\n",
       "    }\n",
       "\n",
       "    .dataframe tbody tr th {\n",
       "        vertical-align: top;\n",
       "    }\n",
       "\n",
       "    .dataframe thead th {\n",
       "        text-align: right;\n",
       "    }\n",
       "</style>\n",
       "<table border=\"1\" class=\"dataframe\">\n",
       "  <thead>\n",
       "    <tr style=\"text-align: right;\">\n",
       "      <th></th>\n",
       "      <th>name</th>\n",
       "      <th>rev</th>\n",
       "    </tr>\n",
       "  </thead>\n",
       "  <tbody>\n",
       "    <tr>\n",
       "      <th>0</th>\n",
       "      <td>Jack</td>\n",
       "      <td>363.901179</td>\n",
       "    </tr>\n",
       "    <tr>\n",
       "      <th>1</th>\n",
       "      <td>Jack</td>\n",
       "      <td>438.306940</td>\n",
       "    </tr>\n",
       "    <tr>\n",
       "      <th>2</th>\n",
       "      <td>Jack</td>\n",
       "      <td>386.693894</td>\n",
       "    </tr>\n",
       "    <tr>\n",
       "      <th>3</th>\n",
       "      <td>Jack</td>\n",
       "      <td>226.405156</td>\n",
       "    </tr>\n",
       "    <tr>\n",
       "      <th>4</th>\n",
       "      <td>Jack</td>\n",
       "      <td>3.574501</td>\n",
       "    </tr>\n",
       "  </tbody>\n",
       "</table>\n",
       "</div>"
      ],
      "text/plain": [
       "   name         rev\n",
       "0  Jack  363.901179\n",
       "1  Jack  438.306940\n",
       "2  Jack  386.693894\n",
       "3  Jack  226.405156\n",
       "4  Jack    3.574501"
      ]
     },
     "execution_count": 38,
     "metadata": {},
     "output_type": "execute_result"
    }
   ],
   "source": [
    "df = DataFrame(sale_revenue, columns=['name','rev'])\n",
    "df.head()"
   ]
  },
  {
   "cell_type": "code",
   "execution_count": 39,
   "metadata": {},
   "outputs": [
    {
     "data": {
      "text/plain": [
       "name\n",
       "Christi    54924.536339\n",
       "Paul       53607.408277\n",
       "Jack       51439.939880\n",
       "Tasha      48671.894878\n",
       "Linda      47677.688336\n",
       "Name: rev, dtype: float64"
      ]
     },
     "execution_count": 39,
     "metadata": {},
     "output_type": "execute_result"
    }
   ],
   "source": [
    "#output employees in order of their revenue earnings\n",
    "\n",
    "df.groupby('name')['rev'].sum().sort_values(ascending=False)"
   ]
  },
  {
   "cell_type": "code",
   "execution_count": 41,
   "metadata": {},
   "outputs": [
    {
     "data": {
      "text/html": [
       "<div>\n",
       "<style scoped>\n",
       "    .dataframe tbody tr th:only-of-type {\n",
       "        vertical-align: middle;\n",
       "    }\n",
       "\n",
       "    .dataframe tbody tr th {\n",
       "        vertical-align: top;\n",
       "    }\n",
       "\n",
       "    .dataframe thead tr th {\n",
       "        text-align: left;\n",
       "    }\n",
       "\n",
       "    .dataframe thead tr:last-of-type th {\n",
       "        text-align: right;\n",
       "    }\n",
       "</style>\n",
       "<table border=\"1\" class=\"dataframe\">\n",
       "  <thead>\n",
       "    <tr>\n",
       "      <th></th>\n",
       "      <th colspan=\"8\" halign=\"left\">rev</th>\n",
       "    </tr>\n",
       "    <tr>\n",
       "      <th></th>\n",
       "      <th>count</th>\n",
       "      <th>mean</th>\n",
       "      <th>std</th>\n",
       "      <th>min</th>\n",
       "      <th>25%</th>\n",
       "      <th>50%</th>\n",
       "      <th>75%</th>\n",
       "      <th>max</th>\n",
       "    </tr>\n",
       "    <tr>\n",
       "      <th>name</th>\n",
       "      <th></th>\n",
       "      <th></th>\n",
       "      <th></th>\n",
       "      <th></th>\n",
       "      <th></th>\n",
       "      <th></th>\n",
       "      <th></th>\n",
       "      <th></th>\n",
       "    </tr>\n",
       "  </thead>\n",
       "  <tbody>\n",
       "    <tr>\n",
       "      <th>Christi</th>\n",
       "      <td>100.0</td>\n",
       "      <td>549.245363</td>\n",
       "      <td>337.825356</td>\n",
       "      <td>3.194974</td>\n",
       "      <td>276.618459</td>\n",
       "      <td>519.932120</td>\n",
       "      <td>766.143149</td>\n",
       "      <td>1438.427491</td>\n",
       "    </tr>\n",
       "    <tr>\n",
       "      <th>Jack</th>\n",
       "      <td>100.0</td>\n",
       "      <td>514.399399</td>\n",
       "      <td>348.950233</td>\n",
       "      <td>3.574501</td>\n",
       "      <td>242.527974</td>\n",
       "      <td>462.736492</td>\n",
       "      <td>735.830937</td>\n",
       "      <td>1407.651134</td>\n",
       "    </tr>\n",
       "    <tr>\n",
       "      <th>Linda</th>\n",
       "      <td>100.0</td>\n",
       "      <td>476.776883</td>\n",
       "      <td>349.598488</td>\n",
       "      <td>2.224362</td>\n",
       "      <td>180.669082</td>\n",
       "      <td>446.741454</td>\n",
       "      <td>677.373021</td>\n",
       "      <td>1438.450310</td>\n",
       "    </tr>\n",
       "    <tr>\n",
       "      <th>Paul</th>\n",
       "      <td>100.0</td>\n",
       "      <td>536.074083</td>\n",
       "      <td>325.162151</td>\n",
       "      <td>26.244426</td>\n",
       "      <td>309.300201</td>\n",
       "      <td>479.654902</td>\n",
       "      <td>767.461541</td>\n",
       "      <td>1289.682353</td>\n",
       "    </tr>\n",
       "    <tr>\n",
       "      <th>Tasha</th>\n",
       "      <td>100.0</td>\n",
       "      <td>486.718949</td>\n",
       "      <td>358.578082</td>\n",
       "      <td>15.092908</td>\n",
       "      <td>172.497090</td>\n",
       "      <td>446.004804</td>\n",
       "      <td>743.405098</td>\n",
       "      <td>1355.665581</td>\n",
       "    </tr>\n",
       "  </tbody>\n",
       "</table>\n",
       "</div>"
      ],
      "text/plain": [
       "           rev                                                             \\\n",
       "         count        mean         std        min         25%         50%   \n",
       "name                                                                        \n",
       "Christi  100.0  549.245363  337.825356   3.194974  276.618459  519.932120   \n",
       "Jack     100.0  514.399399  348.950233   3.574501  242.527974  462.736492   \n",
       "Linda    100.0  476.776883  349.598488   2.224362  180.669082  446.741454   \n",
       "Paul     100.0  536.074083  325.162151  26.244426  309.300201  479.654902   \n",
       "Tasha    100.0  486.718949  358.578082  15.092908  172.497090  446.004804   \n",
       "\n",
       "                                  \n",
       "                75%          max  \n",
       "name                              \n",
       "Christi  766.143149  1438.427491  \n",
       "Jack     735.830937  1407.651134  \n",
       "Linda    677.373021  1438.450310  \n",
       "Paul     767.461541  1289.682353  \n",
       "Tasha    743.405098  1355.665581  "
      ]
     },
     "execution_count": 41,
     "metadata": {},
     "output_type": "execute_result"
    }
   ],
   "source": [
    "# for each employee, what is the mean, median, stdv, min, max of their earnings?\n",
    "\n",
    "df.groupby('name').describe()"
   ]
  },
  {
   "cell_type": "code",
   "execution_count": 48,
   "metadata": {},
   "outputs": [
    {
     "data": {
      "text/plain": [
       "array([[<matplotlib.axes._subplots.AxesSubplot object at 0x7f8d9187e890>,\n",
       "        <matplotlib.axes._subplots.AxesSubplot object at 0x7f8d9e893190>],\n",
       "       [<matplotlib.axes._subplots.AxesSubplot object at 0x7f8d8cc75650>,\n",
       "        <matplotlib.axes._subplots.AxesSubplot object at 0x7f8d91b7e490>],\n",
       "       [<matplotlib.axes._subplots.AxesSubplot object at 0x7f8d94a0a410>,\n",
       "        <matplotlib.axes._subplots.AxesSubplot object at 0x7f8d8d6fb490>]],\n",
       "      dtype=object)"
      ]
     },
     "execution_count": 48,
     "metadata": {},
     "output_type": "execute_result"
    },
    {
     "data": {
      "image/png": "[encoded data removed]",
      "text/plain": [
       "<Figure size 1152x1296 with 6 Axes>"
      ]
     },
     "metadata": {
      "needs_background": "light"
     },
     "output_type": "display_data"
    }
   ],
   "source": [
    "#plot the distribution of earnings for each employee\n",
    "\n",
    "%matplotlib inline\n",
    "df['rev'].hist(by=df['name'],figsize = (16,18))"
   ]
  },
  {
   "cell_type": "code",
   "execution_count": null,
   "metadata": {},
   "outputs": [],
   "source": []
  }
 ],
 "metadata": {
  "kernelspec": {
   "display_name": "Python 2",
   "language": "python",
   "name": "python2"
  },
  "language_info": {
   "codemirror_mode": {
    "name": "ipython",
    "version": 2
   },
   "file_extension": ".py",
   "mimetype": "text/x-python",
   "name": "python",
   "nbconvert_exporter": "python",
   "pygments_lexer": "ipython2",
   "version": "2.7.18"
  }
 },
 "nbformat": 4,
 "nbformat_minor": 2
}
