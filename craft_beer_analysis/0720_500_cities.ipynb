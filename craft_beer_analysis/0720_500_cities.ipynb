{
 "cells": [
  {
   "cell_type": "markdown",
   "metadata": {},
   "source": [
    "Reformat \"500 Cities\" to make it more useable.\n",
    "\n",
    "More intuiitive way of organizing data-frame would be\n",
    "- each of the 28,000 census-tracts as an individual row\n",
    "- separate column for each health measurement within the row\n",
    "\n",
    "Requires a few steps:\n",
    "1. Change dataframe format\n",
    "2. Pulling latitude and longitude using regex\n",
    "3. creating 5 digit FIPS code from unique ID\n",
    "4. Combining \"500 Cities\" with income data\n"
   ]
  },
  {
   "cell_type": "code",
   "execution_count": 1,
   "metadata": {},
   "outputs": [],
   "source": [
    "import pandas as pd"
   ]
  },
  {
   "cell_type": "code",
   "execution_count": 2,
   "metadata": {},
   "outputs": [],
   "source": [
    "raw_df = pd.read_csv(\"/Users/abeygailpanganiban/Desktop/practice/500_Cities__Local_Data_for_Better_Health__2019_release.csv.crdownload\")"
   ]
  },
  {
   "cell_type": "code",
   "execution_count": 33,
   "metadata": {},
   "outputs": [
    {
     "data": {
      "text/html": [
       "<div>\n",
       "<style scoped>\n",
       "    .dataframe tbody tr th:only-of-type {\n",
       "        vertical-align: middle;\n",
       "    }\n",
       "\n",
       "    .dataframe tbody tr th {\n",
       "        vertical-align: top;\n",
       "    }\n",
       "\n",
       "    .dataframe thead th {\n",
       "        text-align: right;\n",
       "    }\n",
       "</style>\n",
       "<table border=\"1\" class=\"dataframe\">\n",
       "  <thead>\n",
       "    <tr style=\"text-align: right;\">\n",
       "      <th></th>\n",
       "      <th>Year</th>\n",
       "      <th>StateAbbr</th>\n",
       "      <th>StateDesc</th>\n",
       "      <th>CityName</th>\n",
       "      <th>GeographicLevel</th>\n",
       "      <th>DataSource</th>\n",
       "      <th>Category</th>\n",
       "      <th>UniqueID</th>\n",
       "      <th>Measure</th>\n",
       "      <th>Data_Value_Unit</th>\n",
       "      <th>...</th>\n",
       "      <th>High_Confidence_Limit</th>\n",
       "      <th>Data_Value_Footnote_Symbol</th>\n",
       "      <th>Data_Value_Footnote</th>\n",
       "      <th>PopulationCount</th>\n",
       "      <th>GeoLocation</th>\n",
       "      <th>CategoryID</th>\n",
       "      <th>MeasureId</th>\n",
       "      <th>CityFIPS</th>\n",
       "      <th>TractFIPS</th>\n",
       "      <th>Short_Question_Text</th>\n",
       "    </tr>\n",
       "  </thead>\n",
       "  <tbody>\n",
       "    <tr>\n",
       "      <th>478234</th>\n",
       "      <td>2016</td>\n",
       "      <td>NJ</td>\n",
       "      <td>New Jersey</td>\n",
       "      <td>Trenton</td>\n",
       "      <td>Census Tract</td>\n",
       "      <td>BRFSS</td>\n",
       "      <td>Prevention</td>\n",
       "      <td>3474000-34021001300</td>\n",
       "      <td>Older adult women aged &gt;=65 Years who are up t...</td>\n",
       "      <td>%</td>\n",
       "      <td>...</td>\n",
       "      <td>32.8</td>\n",
       "      <td>NaN</td>\n",
       "      <td>NaN</td>\n",
       "      <td>4216</td>\n",
       "      <td>(40.2408242792, -74.794302758)</td>\n",
       "      <td>PREVENT</td>\n",
       "      <td>COREW</td>\n",
       "      <td>3474000.0</td>\n",
       "      <td>3.402100e+10</td>\n",
       "      <td>Core preventive services for older women</td>\n",
       "    </tr>\n",
       "    <tr>\n",
       "      <th>296668</th>\n",
       "      <td>2016</td>\n",
       "      <td>GA</td>\n",
       "      <td>Georgia</td>\n",
       "      <td>Columbus</td>\n",
       "      <td>Census Tract</td>\n",
       "      <td>BRFSS</td>\n",
       "      <td>Prevention</td>\n",
       "      <td>1319000-13215000800</td>\n",
       "      <td>Fecal occult blood test, sigmoidoscopy, or col...</td>\n",
       "      <td>%</td>\n",
       "      <td>...</td>\n",
       "      <td>61.7</td>\n",
       "      <td>NaN</td>\n",
       "      <td>NaN</td>\n",
       "      <td>2431</td>\n",
       "      <td>(32.4983768258, -84.9706380063)</td>\n",
       "      <td>PREVENT</td>\n",
       "      <td>COLON_SCREEN</td>\n",
       "      <td>1319000.0</td>\n",
       "      <td>1.321500e+10</td>\n",
       "      <td>Colorectal Cancer Screening</td>\n",
       "    </tr>\n",
       "    <tr>\n",
       "      <th>736099</th>\n",
       "      <td>2017</td>\n",
       "      <td>TX</td>\n",
       "      <td>Texas</td>\n",
       "      <td>McAllen</td>\n",
       "      <td>Census Tract</td>\n",
       "      <td>BRFSS</td>\n",
       "      <td>Health Outcomes</td>\n",
       "      <td>4845384-48215020503</td>\n",
       "      <td>Physical health not good for &gt;=14 days among a...</td>\n",
       "      <td>%</td>\n",
       "      <td>...</td>\n",
       "      <td>17.8</td>\n",
       "      <td>NaN</td>\n",
       "      <td>NaN</td>\n",
       "      <td>8586</td>\n",
       "      <td>(26.1599321818, -98.266675704)</td>\n",
       "      <td>HLTHOUT</td>\n",
       "      <td>PHLTH</td>\n",
       "      <td>4845384.0</td>\n",
       "      <td>4.821502e+10</td>\n",
       "      <td>Physical Health</td>\n",
       "    </tr>\n",
       "    <tr>\n",
       "      <th>773655</th>\n",
       "      <td>2017</td>\n",
       "      <td>VA</td>\n",
       "      <td>Virginia</td>\n",
       "      <td>Hampton</td>\n",
       "      <td>Census Tract</td>\n",
       "      <td>BRFSS</td>\n",
       "      <td>Health Outcomes</td>\n",
       "      <td>5135000-51650010307</td>\n",
       "      <td>Coronary heart disease among adults aged &gt;=18 ...</td>\n",
       "      <td>%</td>\n",
       "      <td>...</td>\n",
       "      <td>5.8</td>\n",
       "      <td>NaN</td>\n",
       "      <td>NaN</td>\n",
       "      <td>5339</td>\n",
       "      <td>(37.0579277371, -76.4395661024)</td>\n",
       "      <td>HLTHOUT</td>\n",
       "      <td>CHD</td>\n",
       "      <td>5135000.0</td>\n",
       "      <td>5.165001e+10</td>\n",
       "      <td>Coronary Heart Disease</td>\n",
       "    </tr>\n",
       "    <tr>\n",
       "      <th>516597</th>\n",
       "      <td>2016</td>\n",
       "      <td>NY</td>\n",
       "      <td>New York</td>\n",
       "      <td>New York</td>\n",
       "      <td>Census Tract</td>\n",
       "      <td>BRFSS</td>\n",
       "      <td>Prevention</td>\n",
       "      <td>3651000-36081025100</td>\n",
       "      <td>Older adult men aged &gt;=65 Years who are up to ...</td>\n",
       "      <td>%</td>\n",
       "      <td>...</td>\n",
       "      <td>33.5</td>\n",
       "      <td>NaN</td>\n",
       "      <td>NaN</td>\n",
       "      <td>5720</td>\n",
       "      <td>(40.7449234091, -73.9096532213)</td>\n",
       "      <td>PREVENT</td>\n",
       "      <td>COREM</td>\n",
       "      <td>3651000.0</td>\n",
       "      <td>3.608103e+10</td>\n",
       "      <td>Core preventive services for older men</td>\n",
       "    </tr>\n",
       "  </tbody>\n",
       "</table>\n",
       "<p>5 rows × 24 columns</p>\n",
       "</div>"
      ],
      "text/plain": [
       "        Year StateAbbr   StateDesc  CityName GeographicLevel DataSource  \\\n",
       "478234  2016        NJ  New Jersey   Trenton    Census Tract      BRFSS   \n",
       "296668  2016        GA     Georgia  Columbus    Census Tract      BRFSS   \n",
       "736099  2017        TX       Texas   McAllen    Census Tract      BRFSS   \n",
       "773655  2017        VA    Virginia   Hampton    Census Tract      BRFSS   \n",
       "516597  2016        NY    New York  New York    Census Tract      BRFSS   \n",
       "\n",
       "               Category             UniqueID  \\\n",
       "478234       Prevention  3474000-34021001300   \n",
       "296668       Prevention  1319000-13215000800   \n",
       "736099  Health Outcomes  4845384-48215020503   \n",
       "773655  Health Outcomes  5135000-51650010307   \n",
       "516597       Prevention  3651000-36081025100   \n",
       "\n",
       "                                                  Measure Data_Value_Unit  \\\n",
       "478234  Older adult women aged >=65 Years who are up t...               %   \n",
       "296668  Fecal occult blood test, sigmoidoscopy, or col...               %   \n",
       "736099  Physical health not good for >=14 days among a...               %   \n",
       "773655  Coronary heart disease among adults aged >=18 ...               %   \n",
       "516597  Older adult men aged >=65 Years who are up to ...               %   \n",
       "\n",
       "        ... High_Confidence_Limit Data_Value_Footnote_Symbol  \\\n",
       "478234  ...                  32.8                        NaN   \n",
       "296668  ...                  61.7                        NaN   \n",
       "736099  ...                  17.8                        NaN   \n",
       "773655  ...                   5.8                        NaN   \n",
       "516597  ...                  33.5                        NaN   \n",
       "\n",
       "        Data_Value_Footnote  PopulationCount                      GeoLocation  \\\n",
       "478234                  NaN             4216   (40.2408242792, -74.794302758)   \n",
       "296668                  NaN             2431  (32.4983768258, -84.9706380063)   \n",
       "736099                  NaN             8586   (26.1599321818, -98.266675704)   \n",
       "773655                  NaN             5339  (37.0579277371, -76.4395661024)   \n",
       "516597                  NaN             5720  (40.7449234091, -73.9096532213)   \n",
       "\n",
       "       CategoryID     MeasureId   CityFIPS     TractFIPS  \\\n",
       "478234    PREVENT         COREW  3474000.0  3.402100e+10   \n",
       "296668    PREVENT  COLON_SCREEN  1319000.0  1.321500e+10   \n",
       "736099    HLTHOUT         PHLTH  4845384.0  4.821502e+10   \n",
       "773655    HLTHOUT           CHD  5135000.0  5.165001e+10   \n",
       "516597    PREVENT         COREM  3651000.0  3.608103e+10   \n",
       "\n",
       "                             Short_Question_Text  \n",
       "478234  Core preventive services for older women  \n",
       "296668               Colorectal Cancer Screening  \n",
       "736099                           Physical Health  \n",
       "773655                    Coronary Heart Disease  \n",
       "516597    Core preventive services for older men  \n",
       "\n",
       "[5 rows x 24 columns]"
      ]
     },
     "execution_count": 33,
     "metadata": {},
     "output_type": "execute_result"
    }
   ],
   "source": [
    "raw_df.sample(5)"
   ]
  },
  {
   "cell_type": "code",
   "execution_count": 3,
   "metadata": {},
   "outputs": [
    {
     "data": {
      "text/plain": [
       "(810103, 24)"
      ]
     },
     "execution_count": 3,
     "metadata": {},
     "output_type": "execute_result"
    }
   ],
   "source": [
    "raw_df.shape"
   ]
  },
  {
   "cell_type": "code",
   "execution_count": 4,
   "metadata": {},
   "outputs": [
    {
     "name": "stdout",
     "output_type": "stream",
     "text": [
      "<class 'pandas.core.frame.DataFrame'>\n",
      "RangeIndex: 810103 entries, 0 to 810102\n",
      "Data columns (total 24 columns):\n",
      "Year                          810103 non-null int64\n",
      "StateAbbr                     810103 non-null object\n",
      "StateDesc                     810103 non-null object\n",
      "CityName                      810047 non-null object\n",
      "GeographicLevel               810103 non-null object\n",
      "DataSource                    810103 non-null object\n",
      "Category                      810103 non-null object\n",
      "UniqueID                      810103 non-null object\n",
      "Measure                       810103 non-null object\n",
      "Data_Value_Unit               810103 non-null object\n",
      "DataValueTypeID               810103 non-null object\n",
      "Data_Value_Type               810103 non-null object\n",
      "Data_Value                    787311 non-null float64\n",
      "Low_Confidence_Limit          787311 non-null float64\n",
      "High_Confidence_Limit         787311 non-null float64\n",
      "Data_Value_Footnote_Symbol    22794 non-null object\n",
      "Data_Value_Footnote           22794 non-null object\n",
      "PopulationCount               810103 non-null int64\n",
      "GeoLocation                   810047 non-null object\n",
      "CategoryID                    810103 non-null object\n",
      "MeasureId                     810103 non-null object\n",
      "CityFIPS                      810047 non-null float64\n",
      "TractFIPS                     782047 non-null float64\n",
      "Short_Question_Text           810103 non-null object\n",
      "dtypes: float64(5), int64(2), object(17)\n",
      "memory usage: 148.3+ MB\n"
     ]
    }
   ],
   "source": [
    "raw_df.info()"
   ]
  },
  {
   "cell_type": "code",
   "execution_count": 5,
   "metadata": {},
   "outputs": [
    {
     "data": {
      "text/plain": [
       "['Census Tract', 'City', 'US']"
      ]
     },
     "execution_count": 5,
     "metadata": {},
     "output_type": "execute_result"
    }
   ],
   "source": [
    "list(raw_df['GeographicLevel'].unique())"
   ]
  },
  {
   "cell_type": "code",
   "execution_count": 8,
   "metadata": {},
   "outputs": [],
   "source": [
    "#Mask data-frame to isolate either city-level data or census-tract-level data\n",
    "\n",
    "census_df = raw_df[raw_df[\"GeographicLevel\"] == \"Census Tract\"]"
   ]
  },
  {
   "cell_type": "code",
   "execution_count": 26,
   "metadata": {},
   "outputs": [
    {
     "name": "stdout",
     "output_type": "stream",
     "text": [
      "['Visits to dentist or dental clinic among adults aged >=18 Years', 'Chronic kidney disease among adults aged >=18 Years', 'Sleeping less than 7 hours among adults aged >=18 Years', 'No leisure-time physical activity among adults aged >=18 Years', 'Papanicolaou smear use among adult women aged 21\\xe2\\x80\\x9365 Years', 'Current asthma among adults aged >=18 Years', 'Arthritis among adults aged >=18 Years', 'High blood pressure among adults aged >=18 Years', 'Cholesterol screening among adults aged >=18 Years', 'Cancer (excluding skin cancer) among adults aged >=18 Years', 'Older adult women aged >=65 Years who are up to date on a core set of clinical preventive services: Flu shot past Year, PPV shot ever, Colorectal cancer screening, and Mammogram past 2 Years', 'Visits to doctor for routine checkup within the past Year among adults aged >=18 Years', 'Current lack of health insurance among adults aged 18\\xe2\\x80\\x9364 Years', 'Physical health not good for >=14 days among adults aged >=18 Years', 'Chronic obstructive pulmonary disease among adults aged >=18 Years', 'Obesity among adults aged >=18 Years', 'Taking medicine for high blood pressure control among adults aged >=18 Years with high blood pressure', 'Fecal occult blood test, sigmoidoscopy, or colonoscopy among adults aged 50\\xe2\\x80\\x9375 Years', 'Diagnosed diabetes among adults aged >=18 Years', 'Older adult men aged >=65 Years who are up to date on a core set of clinical preventive services: Flu shot past Year, PPV shot ever, Colorectal cancer screening', 'Binge drinking among adults aged >=18 Years', 'Coronary heart disease among adults aged >=18 Years', 'Mental health not good for >=14 days among adults aged >=18 Years', 'Current smoking among adults aged >=18 Years', 'All teeth lost among adults aged >=65 Years', 'Mammography use among women aged 50\\xe2\\x80\\x9374 Years', 'High cholesterol among adults aged >=18 Years who have been screened in the past 5 Years', 'Stroke among adults aged >=18 Years']\n"
     ]
    }
   ],
   "source": [
    "#Look at unique values in \"Measure\" column\n",
    "\n",
    "measure_dict = dict(census_df['Measure'].value_counts())\n",
    "measures_of_interest = list(measure_dict.keys())\n",
    "print(measures_of_interest)"
   ]
  },
  {
   "cell_type": "code",
   "execution_count": 28,
   "metadata": {},
   "outputs": [
    {
     "data": {
      "text/plain": [
       "0              Arthritis among adults aged >=18 Years\n",
       "5              Arthritis among adults aged >=18 Years\n",
       "8     Diagnosed diabetes among adults aged >=18 Years\n",
       "15       Mammography use among women aged 50–74 Years\n",
       "18    Diagnosed diabetes among adults aged >=18 Years\n",
       "Name: Measure, dtype: object"
      ]
     },
     "execution_count": 28,
     "metadata": {},
     "output_type": "execute_result"
    }
   ],
   "source": [
    "census_df['Measure'].head(5)"
   ]
  },
  {
   "cell_type": "markdown",
   "metadata": {},
   "source": [
    "If you look at the columns of census_data, you will see a column labeled \"Measure\"\n",
    "\n",
    "Look at the unique values showing all the health measures that were collected. \n",
    "\n",
    "Need to create a list of any and all health-measures of interest, ensuring they are spelled exactly how they appear"
   ]
  },
  {
   "cell_type": "code",
   "execution_count": 37,
   "metadata": {},
   "outputs": [
    {
     "name": "stdout",
     "output_type": "stream",
     "text": [
      "<class 'pandas.core.frame.DataFrame'>\n",
      "<class 'pandas.core.frame.DataFrame'>\n",
      "<class 'pandas.core.frame.DataFrame'>\n",
      "<class 'pandas.core.frame.DataFrame'>\n",
      "<class 'pandas.core.frame.DataFrame'>\n",
      "<class 'pandas.core.frame.DataFrame'>\n",
      "<class 'pandas.core.frame.DataFrame'>\n",
      "<class 'pandas.core.frame.DataFrame'>\n",
      "<class 'pandas.core.frame.DataFrame'>\n",
      "<class 'pandas.core.frame.DataFrame'>\n",
      "<class 'pandas.core.frame.DataFrame'>\n",
      "<class 'pandas.core.frame.DataFrame'>\n",
      "<class 'pandas.core.frame.DataFrame'>\n",
      "<class 'pandas.core.frame.DataFrame'>\n",
      "<class 'pandas.core.frame.DataFrame'>\n",
      "<class 'pandas.core.frame.DataFrame'>\n",
      "<class 'pandas.core.frame.DataFrame'>\n",
      "<class 'pandas.core.frame.DataFrame'>\n",
      "<class 'pandas.core.frame.DataFrame'>\n",
      "<class 'pandas.core.frame.DataFrame'>\n",
      "<class 'pandas.core.frame.DataFrame'>\n",
      "<class 'pandas.core.frame.DataFrame'>\n",
      "<class 'pandas.core.frame.DataFrame'>\n",
      "<class 'pandas.core.frame.DataFrame'>\n",
      "<class 'pandas.core.frame.DataFrame'>\n",
      "<class 'pandas.core.frame.DataFrame'>\n",
      "<class 'pandas.core.frame.DataFrame'>\n",
      "<class 'pandas.core.frame.DataFrame'>\n"
     ]
    }
   ],
   "source": [
    "data_frame_list = [census_df[census_df['Measure'] == x] for x in measures_of_interest]\n",
    "for df in data_frame_list:\n",
    "    print type(df)"
   ]
  },
  {
   "cell_type": "code",
   "execution_count": null,
   "metadata": {},
   "outputs": [],
   "source": []
  }
 ],
 "metadata": {
  "kernelspec": {
   "display_name": "Python 2",
   "language": "python",
   "name": "python2"
  },
  "language_info": {
   "codemirror_mode": {
    "name": "ipython",
    "version": 2
   },
   "file_extension": ".py",
   "mimetype": "text/x-python",
   "name": "python",
   "nbconvert_exporter": "python",
   "pygments_lexer": "ipython2",
   "version": "2.7.18"
  }
 },
 "nbformat": 4,
 "nbformat_minor": 2
}
